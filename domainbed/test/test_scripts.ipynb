{
 "cells": [
  {
   "cell_type": "code",
   "execution_count": 1,
   "metadata": {
    "collapsed": true
   },
   "outputs": [
    {
     "data": {
      "text/plain": "WindowsPath('D:/datasets')"
     },
     "execution_count": 1,
     "metadata": {},
     "output_type": "execute_result"
    }
   ],
   "source": [
    "# ------------- Test for pathlib -----------------#\n",
    "from pathlib import Path\n",
    "p = Path(\"D:\\\\datasets\")\n",
    "p"
   ]
  },
  {
   "cell_type": "code",
   "execution_count": 5,
   "outputs": [
    {
     "data": {
      "text/plain": "<domainbed.lib.misc.Tee at 0x262c7bb0be0>"
     },
     "execution_count": 5,
     "metadata": {},
     "output_type": "execute_result"
    }
   ],
   "source": [
    "from domainbed.lib import misc\n",
    "misc.Tee(p / 'out.text')"
   ],
   "metadata": {
    "collapsed": false
   }
  },
  {
   "cell_type": "code",
   "execution_count": 12,
   "outputs": [
    {
     "name": "stdout",
     "output_type": "stream",
     "text": [
      "213试验台相关资料\n",
      "CWRU\n",
      "SWTU-compound-bearing-datesets\n",
      "TerraIncognita_train_output\n",
      "terra_incognita\n",
      "复合故障数据集\n"
     ]
    }
   ],
   "source": [
    "import os\n",
    "\n",
    "path = \"D:\\\\datasets\"\n",
    "for file in os.scandir(path):\n",
    "    if file.is_dir():\n",
    "        print(file.name)"
   ],
   "metadata": {
    "collapsed": false
   }
  },
  {
   "cell_type": "code",
   "execution_count": 28,
   "outputs": [
    {
     "name": "stdout",
     "output_type": "stream",
     "text": [
      "D:\\datasets\n",
      "213试验台相关资料\n",
      "CWRU\n",
      "SWTU-compound-bearing-datesets\n",
      "TerraIncognita_train_output\n",
      "terra_incognita\n",
      "复合故障数据集\n"
     ]
    }
   ],
   "source": [
    "from pathlib import Path\n",
    "\n",
    "path = \"D:\\\\datasets\"\n",
    "path = Path(path)\n",
    "print(str(path))\n",
    "for child in path.glob('*'):\n",
    "    if child.is_dir():\n",
    "        print(child.name)"
   ],
   "metadata": {
    "collapsed": false
   }
  }
 ],
 "metadata": {
  "kernelspec": {
   "name": "py38-pt18",
   "language": "python",
   "display_name": "py38-pt18"
  },
  "language_info": {
   "codemirror_mode": {
    "name": "ipython",
    "version": 2
   },
   "file_extension": ".py",
   "mimetype": "text/x-python",
   "name": "python",
   "nbconvert_exporter": "python",
   "pygments_lexer": "ipython2",
   "version": "2.7.6"
  }
 },
 "nbformat": 4,
 "nbformat_minor": 0
}
