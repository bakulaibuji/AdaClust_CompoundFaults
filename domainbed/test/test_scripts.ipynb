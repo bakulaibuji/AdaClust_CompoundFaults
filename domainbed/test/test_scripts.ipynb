{
 "cells": [
  {
   "cell_type": "code",
   "execution_count": 1,
   "metadata": {
    "collapsed": true
   },
   "outputs": [
    {
     "data": {
      "text/plain": "WindowsPath('D:/datasets')"
     },
     "execution_count": 1,
     "metadata": {},
     "output_type": "execute_result"
    }
   ],
   "source": [
    "# ------------- Test for pathlib -----------------#\n",
    "from pathlib import Path\n",
    "\n",
    "import pandas as pd\n",
    "\n",
    "p = Path(\"D:\\\\datasets\")\n",
    "p"
   ]
  },
  {
   "cell_type": "code",
   "execution_count": 5,
   "outputs": [
    {
     "data": {
      "text/plain": "<domainbed.lib.misc.Tee at 0x262c7bb0be0>"
     },
     "execution_count": 5,
     "metadata": {},
     "output_type": "execute_result"
    }
   ],
   "source": [
    "from domainbed.lib import misc\n",
    "\n",
    "misc.Tee(p / 'out.text')"
   ],
   "metadata": {
    "collapsed": false
   }
  },
  {
   "cell_type": "code",
   "execution_count": 12,
   "outputs": [
    {
     "name": "stdout",
     "output_type": "stream",
     "text": [
      "213试验台相关资料\n",
      "CWRU\n",
      "SWTU-compound-bearing-datesets\n",
      "TerraIncognita_train_output\n",
      "terra_incognita\n",
      "复合故障数据集\n"
     ]
    }
   ],
   "source": [
    "import os\n",
    "\n",
    "path = \"D:\\\\datasets\"\n",
    "for file in os.scandir(path):\n",
    "    if file.is_dir():\n",
    "        print(file.name)"
   ],
   "metadata": {
    "collapsed": false
   }
  },
  {
   "cell_type": "code",
   "execution_count": 28,
   "outputs": [
    {
     "name": "stdout",
     "output_type": "stream",
     "text": [
      "D:\\datasets\n",
      "213试验台相关资料\n",
      "CWRU\n",
      "SWTU-compound-bearing-datesets\n",
      "TerraIncognita_train_output\n",
      "terra_incognita\n",
      "复合故障数据集\n"
     ]
    }
   ],
   "source": [
    "from pathlib import Path\n",
    "\n",
    "path = \"D:\\\\datasets\"\n",
    "path = Path(path)\n",
    "print(str(path))\n",
    "for child in path.glob('*'):\n",
    "    if child.is_dir():\n",
    "        print(child.name)"
   ],
   "metadata": {
    "collapsed": false
   }
  },
  {
   "cell_type": "code",
   "execution_count": null,
   "outputs": [],
   "source": [],
   "metadata": {
    "collapsed": false
   }
  },
  {
   "cell_type": "code",
   "execution_count": 5,
   "outputs": [],
   "source": [
    "import json\n",
    "from pathlib import Path\n",
    "\n",
    "results = {\n",
    "    'step': 0,\n",
    "    'epoch': 1,\n",
    "}\n",
    "path = \"D:\\datasets\\TerraIncognita_train_output\"\n",
    "path = Path(path)\n",
    "epochs_path = path / 'results.json'\n",
    "with open(epochs_path.absolute(), 'a') as f:\n",
    "    f.write(json.dumps(results, sort_keys=True) + \"\\n\")\n"
   ],
   "metadata": {
    "collapsed": false
   }
  },
  {
   "cell_type": "code",
   "execution_count": 1,
   "outputs": [],
   "source": [
    "import h5py\n",
    "from pathlib import Path\n",
    "\n",
    "path = \"D:\\datasets\\复合故障数据集\\数据\\Case 1\"\n",
    "path = Path(path)\n",
    "\n",
    "read_file = h5py.File(path / 'B1H.h5', 'r')\n",
    "out = read_file['x']\n",
    "\n",
    "import numpy as np\n",
    "import pandas as pd\n",
    "\n",
    "signals = pd.DataFrame(np.array(out))\n",
    "labels = list(read_file['label'])"
   ],
   "metadata": {
    "collapsed": false
   }
  },
  {
   "cell_type": "code",
   "execution_count": 12,
   "outputs": [],
   "source": [
    "from matplotlib import pyplot as plt\n",
    "\n",
    "fault_type = ['正常', '裂纹', '断齿', '缺齿', '磨损', '点蚀', '磨损+点蚀', '裂纹+缺齿', '裂纹+断齿']\n",
    "data_segment = 5120 // 2\n",
    "sampling_frequency = 5120\n",
    "window = 'tukey'\n",
    "nperseg = 255\n",
    "noverlap = 170\n",
    "pic_size = 56 * 1\n",
    "x_len = pic_size * 5\n",
    "f_len = pic_size * 2\n",
    "sig = signals.iloc[0][5120 * 10: 5120 * 11]\n",
    "\n"
   ],
   "metadata": {
    "collapsed": false
   }
  },
  {
   "cell_type": "code",
   "execution_count": 22,
   "outputs": [
    {
     "data": {
      "text/plain": "<Figure size 432x288 with 1 Axes>",
      "image/png": "[encoded data removed]"
     },
     "metadata": {
      "needs_background": "light"
     },
     "output_type": "display_data"
    }
   ],
   "source": [
    "from scipy import signal\n",
    "from scipy.interpolate import interp2d\n",
    "\n",
    "f, t, Zxx = signal.stft(sig, sampling_frequency, window=window, nperseg=nperseg, noverlap=noverlap)\n",
    "newF = interp2d(t, f, np.abs(Zxx), kind='linear')\n",
    "t_new = np.linspace(0, 1 / sampling_frequency * data_segment, num=x_len)\n",
    "f_new = np.linspace(0, sampling_frequency // 2, num=f_len)\n",
    "Z_new = newF(t_new, f_new)\n",
    "Xn, Yn = np.meshgrid(t_new, f_new)\n",
    "\n",
    "plt.pcolormesh(Xn, Yn, Z_new, shading='auto')\n",
    "# plt.show()\n",
    "plt.axis('off')\n",
    "plt.savefig('tt.png', dpi=300, bbox_inches='tight', pad_inches=0)\n"
   ],
   "metadata": {
    "collapsed": false
   }
  },
  {
   "cell_type": "code",
   "execution_count": 23,
   "outputs": [
    {
     "data": {
      "text/plain": "0.075015"
     },
     "execution_count": 23,
     "metadata": {},
     "output_type": "execute_result"
    }
   ],
   "source": [],
   "metadata": {
    "collapsed": false
   }
  }
 ],
 "metadata": {
  "kernelspec": {
   "name": "py38-pt18",
   "language": "python",
   "display_name": "py38-pt18"
  },
  "language_info": {
   "codemirror_mode": {
    "name": "ipython",
    "version": 2
   },
   "file_extension": ".py",
   "mimetype": "text/x-python",
   "name": "python",
   "nbconvert_exporter": "python",
   "pygments_lexer": "ipython2",
   "version": "2.7.6"
  }
 },
 "nbformat": 4,
 "nbformat_minor": 0
}
