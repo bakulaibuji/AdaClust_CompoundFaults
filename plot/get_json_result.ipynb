{
 "cells": [
  {
   "cell_type": "code",
   "execution_count": 1,
   "metadata": {
    "collapsed": true
   },
   "outputs": [],
   "source": [
    "from pathlib import Path\n",
    "import json\n",
    "import pandas as pd\n",
    "\n",
    "readFilePath = Path(\"D:\\\\wang\\\\OneDrive\\\\Desktop\\\\results.json\")\n",
    "outFilePath = Path(\"D:\\\\wang\\\\OneDrive\\\\Desktop\\\\result.xlsx\")"
   ]
  },
  {
   "cell_type": "code",
   "execution_count": 2,
   "outputs": [],
   "source": [
    "data = []\n",
    "for line in open(readFilePath, 'r'):\n",
    "    data.append(json.loads(line))"
   ],
   "metadata": {
    "collapsed": false
   }
  },
  {
   "cell_type": "code",
   "execution_count": 4,
   "outputs": [],
   "source": [
    "df = pd.DataFrame(data)\n",
    "with pd.ExcelWriter(outFilePath, mode='a') as writer:\n",
    "    df.to_excel(writer, sheet_name=\"trainWithB123\")"
   ],
   "metadata": {
    "collapsed": false
   }
  },
  {
   "cell_type": "markdown",
   "source": [],
   "metadata": {
    "collapsed": false
   }
  }
 ],
 "metadata": {
  "kernelspec": {
   "display_name": "Python 3",
   "language": "python",
   "name": "python3"
  },
  "language_info": {
   "codemirror_mode": {
    "name": "ipython",
    "version": 2
   },
   "file_extension": ".py",
   "mimetype": "text/x-python",
   "name": "python",
   "nbconvert_exporter": "python",
   "pygments_lexer": "ipython2",
   "version": "2.7.6"
  }
 },
 "nbformat": 4,
 "nbformat_minor": 0
}
