{
 "cells": [
  {
   "cell_type": "markdown",
   "source": [
    "# Step 1: 清洗数据，转换数据格式"
   ],
   "metadata": {
    "collapsed": false
   }
  },
  {
   "cell_type": "code",
   "execution_count": 1,
   "metadata": {
    "collapsed": true
   },
   "outputs": [],
   "source": [
    "from pathlib import Path\n",
    "import pandas as pd\n"
   ]
  },
  {
   "cell_type": "code",
   "execution_count": 13,
   "outputs": [
    {
     "name": "stderr",
     "output_type": "stream",
     "text": [
      "D:\\Programming\\Anaconda\\envs\\py38-pt18\\lib\\site-packages\\IPython\\core\\interactiveshell.py:3437: FutureWarning: The error_bad_lines argument has been deprecated and will be removed in a future version.\n",
      "\n",
      "\n",
      "  exec(code_obj, self.user_global_ns, self.user_ns)\n",
      "D:\\Programming\\Anaconda\\envs\\py38-pt18\\lib\\site-packages\\openpyxl\\workbook\\child.py:99: UserWarning: Title is more than 31 characters. Some applications may not be able to read the file\n",
      "  warnings.warn(\"Title is more than 31 characters. Some applications may not be able to read the file\")\n"
     ]
    }
   ],
   "source": [
    "dataPath = Path(\"F:\\\\Projects\\\\2022-11 Simulation\\\\仿真振动信号数据\")\n",
    "files = [file for file in dataPath.iterdir() if \"sum\" not in file.name]\n",
    "out_file = dataPath / \"vibration_sum.xlsx\"\n",
    "writer = pd.ExcelWriter(out_file)\n",
    "\n",
    "for file in files:\n",
    "    with open(file, encoding='utf-8') as temp_f:\n",
    "        col_count = [len(l.split(\",\")) for l in temp_f.readlines()]\n",
    "\n",
    "    column_names = [i for i in range(max(col_count))]\n",
    "    data = pd.read_csv(file, skip_blank_lines=True, error_bad_lines=False, names=column_names)\n",
    "    labels = data.iloc[len(data)-2,:]\n",
    "    signals = data.iloc[len(data)-1,:]\n",
    "    time_series = []\n",
    "    for label in labels:\n",
    "        if \"ppb\" not in label: continue\n",
    "        cur_time = label.split(\"t=\")[-1]\n",
    "        if len(time_series)==0 or time_series[len(time_series)-1] != cur_time:\n",
    "            time_series.append(cur_time)\n",
    "    signals_reformat = pd.DataFrame(columns=['x', 'y', 'z'], index=time_series)\n",
    "    for i, signal in enumerate(signals):\n",
    "        label = labels[i]\n",
    "        cur_time = label.split(\"t=\")[-1]\n",
    "        if \"ppb1\" in label:\n",
    "            signals_reformat.loc[cur_time, 'x'] = signal\n",
    "        elif \"ppb2\" in label:\n",
    "            signals_reformat.loc[cur_time, 'y'] = signal\n",
    "        else:\n",
    "            signals_reformat.loc[cur_time, 'z'] = signal\n",
    "\n",
    "    signals_reformat.to_excel(writer,sheet_name=file.stem)\n",
    "\n",
    "writer.save()\n",
    "writer.close()"
   ],
   "metadata": {
    "collapsed": false
   }
  },
  {
   "cell_type": "markdown",
   "source": [
    "# Step 2: 读取数据，绘制图像"
   ],
   "metadata": {
    "collapsed": false
   }
  },
  {
   "cell_type": "code",
   "execution_count": 19,
   "outputs": [
    {
     "ename": "ModuleNotFoundError",
     "evalue": "No module named 'palettable'",
     "output_type": "error",
     "traceback": [
      "\u001B[1;31m---------------------------------------------------------------------------\u001B[0m",
      "\u001B[1;31mModuleNotFoundError\u001B[0m                       Traceback (most recent call last)",
      "\u001B[1;32m<ipython-input-19-4cd6af9dbff2>\u001B[0m in \u001B[0;36m<module>\u001B[1;34m\u001B[0m\n\u001B[0;32m      2\u001B[0m \u001B[1;32mimport\u001B[0m \u001B[0mpandas\u001B[0m \u001B[1;32mas\u001B[0m \u001B[0mpd\u001B[0m\u001B[1;33m\u001B[0m\u001B[1;33m\u001B[0m\u001B[0m\n\u001B[0;32m      3\u001B[0m \u001B[1;31m# from pylab import *\u001B[0m\u001B[1;33m\u001B[0m\u001B[1;33m\u001B[0m\u001B[1;33m\u001B[0m\u001B[0m\n\u001B[1;32m----> 4\u001B[1;33m \u001B[1;32mfrom\u001B[0m \u001B[0mpalettable\u001B[0m\u001B[1;33m.\u001B[0m\u001B[0mcolorbrewer\u001B[0m\u001B[1;33m.\u001B[0m\u001B[0mqualitative\u001B[0m \u001B[1;32mimport\u001B[0m \u001B[0mSet2_7\u001B[0m\u001B[1;33m\u001B[0m\u001B[1;33m\u001B[0m\u001B[0m\n\u001B[0m\u001B[0;32m      5\u001B[0m \u001B[1;32mimport\u001B[0m \u001B[0mh5py\u001B[0m\u001B[1;33m\u001B[0m\u001B[1;33m\u001B[0m\u001B[0m\n\u001B[0;32m      6\u001B[0m \u001B[1;32mfrom\u001B[0m \u001B[0mpathlib\u001B[0m \u001B[1;32mimport\u001B[0m \u001B[0mPath\u001B[0m\u001B[1;33m\u001B[0m\u001B[1;33m\u001B[0m\u001B[0m\n",
      "\u001B[1;31mModuleNotFoundError\u001B[0m: No module named 'palettable'"
     ]
    }
   ],
   "source": [
    "import numpy as np\n",
    "import pandas as pd\n",
    "# from pylab import *\n",
    "from palettable.colorbrewer.qualitative import Set2_7\n",
    "import h5py\n",
    "from pathlib import Path\n",
    "from domainbed.lib import FFT\n",
    "from scipy import signal\n",
    "from scipy.interpolate import interp2d\n",
    "import scipy.io as scio"
   ],
   "metadata": {
    "collapsed": false
   }
  },
  {
   "cell_type": "code",
   "execution_count": 16,
   "outputs": [],
   "source": [
    "dataPath = Path(\"F:\\\\Projects\\\\2022-11 Simulation\\\\仿真振动信号数据\")\n",
    "file = dataPath / \"vibration_sum.xlsx\"\n",
    "\n",
    "data = pd.read_excel(file, sheet_name=None)"
   ],
   "metadata": {
    "collapsed": false
   }
  },
  {
   "cell_type": "code",
   "execution_count": 31,
   "outputs": [],
   "source": [
    "fig, ax = plt.subplots(1, 1, figsize=(6 / 1.2, 4 / 1.2), dpi=600)\n",
    "ax.plot(np.arange(0, len(sig)) / 5120, sig, color=(0, 80 / 255, 131 / 255), linewidth=0.25)"
   ],
   "metadata": {
    "collapsed": false
   }
  },
  {
   "cell_type": "code",
   "execution_count": 63,
   "outputs": [],
   "source": [
    "signals_reformat.loc[cur_time, 'x']=2"
   ],
   "metadata": {
    "collapsed": false
   }
  },
  {
   "cell_type": "code",
   "execution_count": 3,
   "outputs": [],
   "source": [
    "writer.path\n"
   ],
   "metadata": {
    "collapsed": false
   }
  }
 ],
 "metadata": {
  "kernelspec": {
   "name": "py38-pt18",
   "language": "python",
   "display_name": "py38-pt18"
  },
  "language_info": {
   "codemirror_mode": {
    "name": "ipython",
    "version": 2
   },
   "file_extension": ".py",
   "mimetype": "text/x-python",
   "name": "python",
   "nbconvert_exporter": "python",
   "pygments_lexer": "ipython2",
   "version": "2.7.6"
  }
 },
 "nbformat": 4,
 "nbformat_minor": 0
}
